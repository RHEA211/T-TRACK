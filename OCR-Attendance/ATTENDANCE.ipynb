{
 "cells": [
  {
   "cell_type": "code",
   "execution_count": 1,
   "metadata": {
    "scrolled": true
   },
   "outputs": [
    {
     "name": "stdout",
     "output_type": "stream",
     "text": [
      "2005439_Anushka Das\n",
      "\n",
      "2005846_Akruti Dash\n",
      "\n",
      "2005872_HARSH GOYAL\n",
      "\n",
      "2005931_Ashish Barwa\n",
      "\n",
      "2005975 UTKARSH KUMAR\n",
      "\n",
      "2076014 - APARNA GHOSH\n",
      "\n",
      "2076034- Moumita Kundu\n",
      "\n",
      "2076049-sankalp prusty\n",
      "\n",
      "2076062-Swarnika Kesar\n",
      "\n",
      "2076072-Srishty Vishwakarma\n",
      "\n",
      "2076078-Vidisha Gupta\n",
      "\n",
      "2076084 - Sayan Ghosh\n",
      "\n",
      "BA\n",
      "BA\n",
      "BA\n",
      "BA\n",
      "va\n",
      "BA\n",
      "BA\n",
      "BA\n",
      "BA\n",
      "BA\n",
      "BA\n",
      "& A\n",
      "\f",
      "\n"
     ]
    },
    {
     "data": {
      "image/png": "[encoded data removed]",
      "text/plain": [
       "<Figure size 432x288 with 1 Axes>"
      ]
     },
     "metadata": {
      "needs_background": "light"
     },
     "output_type": "display_data"
    }
   ],
   "source": [
    "import pytesseract\n",
    "import numpy as np\n",
    "import matplotlib.pyplot as plt\n",
    "from pytesseract import Output\n",
    "import cv2\n",
    "\n",
    "#Getting the image\n",
    "image=cv2.imread(r\"C:\\Users\\KIIT\\Desktop\\Matchr\\T-TRACK\\stu.png\")\n",
    "\n",
    "#Grayscaling the image\n",
    "gray = cv2.cvtColor(image, cv2.COLOR_BGR2GRAY)\n",
    "plt.imshow(gray,cmap='gray')\n",
    "plt.axis('off')\n",
    "\n",
    "print(pytesseract.image_to_string(image))"
   ]
  },
  {
   "cell_type": "code",
   "execution_count": 6,
   "metadata": {},
   "outputs": [],
   "source": [
    "from PIL import Image\n",
    "path= r\"C:\\Users\\KIIT\\Desktop\\Matchr\\T-TRACK\\stu.png\"\n",
    "list_with_many_images=[path]\n",
    "def image_to_str(path):\n",
    "#return a string from image\n",
    "    return pytesseract.image_to_string(Image.open(path))\n",
    "\n",
    "# Now open a csv file and save the text\n",
    "with open(\"list.csv\", \"w+\", encoding=\"utf-8\") as file:\n",
    "  \n",
    "  for image_path in list_with_many_images:\n",
    "    text = image_to_str(image_path)\n",
    "    line = f\"{text}\\n\"\n",
    "    file.write(line)"
   ]
  },
  {
   "cell_type": "code",
   "execution_count": 7,
   "metadata": {},
   "outputs": [],
   "source": [
    "import pandas as pd\n",
    "df=pd.read_csv(r\"C:\\Users\\KIIT\\Desktop\\Matchr\\T-TRACK\\list.csv\")\n",
    "#The data was saved with the gap of 1 row, hence deleting alternate rows\n",
    "df.iloc[::1]\n",
    "df.to_csv(r\"C:\\Users\\KIIT\\Desktop\\Matchr\\T-TRACK\\list.csv\")"
   ]
  },
  {
   "cell_type": "code",
   "execution_count": null,
   "metadata": {},
   "outputs": [],
   "source": []
  }
 ],
 "metadata": {
  "kernelspec": {
   "display_name": "Python 3",
   "language": "python",
   "name": "python3"
  },
  "language_info": {
   "codemirror_mode": {
    "name": "ipython",
    "version": 3
   },
   "file_extension": ".py",
   "mimetype": "text/x-python",
   "name": "python",
   "nbconvert_exporter": "python",
   "pygments_lexer": "ipython3",
   "version": "3.8.5"
  }
 },
 "nbformat": 4,
 "nbformat_minor": 4
}
