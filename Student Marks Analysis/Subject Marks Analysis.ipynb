{
 "cells": [
  {
   "cell_type": "markdown",
   "metadata": {},
   "source": [
    "# Question Wise Analysis"
   ]
  },
  {
   "cell_type": "code",
   "execution_count": 59,
   "metadata": {},
   "outputs": [],
   "source": [
    "import pandas as pd\n",
    "import seaborn as sns\n",
    "import matplotlib.pyplot as plt\n",
    "import numpy as np\n"
   ]
  },
  {
   "cell_type": "code",
   "execution_count": 56,
   "metadata": {},
   "outputs": [
    {
     "data": {
      "text/html": [
       "<div>\n",
       "<style scoped>\n",
       "    .dataframe tbody tr th:only-of-type {\n",
       "        vertical-align: middle;\n",
       "    }\n",
       "\n",
       "    .dataframe tbody tr th {\n",
       "        vertical-align: top;\n",
       "    }\n",
       "\n",
       "    .dataframe thead th {\n",
       "        text-align: right;\n",
       "    }\n",
       "</style>\n",
       "<table border=\"1\" class=\"dataframe\">\n",
       "  <thead>\n",
       "    <tr style=\"text-align: right;\">\n",
       "      <th></th>\n",
       "      <th>Roll</th>\n",
       "      <th>Name</th>\n",
       "      <th>Q.1</th>\n",
       "      <th>Q.2</th>\n",
       "      <th>Q.3</th>\n",
       "      <th>Q.4</th>\n",
       "      <th>Q.5</th>\n",
       "      <th>Q.6</th>\n",
       "      <th>Q.7</th>\n",
       "    </tr>\n",
       "  </thead>\n",
       "  <tbody>\n",
       "    <tr>\n",
       "      <th>0</th>\n",
       "      <td>6001</td>\n",
       "      <td>AARUSHI  KHARE</td>\n",
       "      <td>0.5</td>\n",
       "      <td>1.0</td>\n",
       "      <td>2.0</td>\n",
       "      <td>1.0</td>\n",
       "      <td>2.0</td>\n",
       "      <td>0.0</td>\n",
       "      <td>9.0</td>\n",
       "    </tr>\n",
       "    <tr>\n",
       "      <th>1</th>\n",
       "      <td>6003</td>\n",
       "      <td>ABHINAV  HARSH</td>\n",
       "      <td>0.5</td>\n",
       "      <td>2.0</td>\n",
       "      <td>0.5</td>\n",
       "      <td>1.5</td>\n",
       "      <td>0.5</td>\n",
       "      <td>5.0</td>\n",
       "      <td>0.0</td>\n",
       "    </tr>\n",
       "    <tr>\n",
       "      <th>2</th>\n",
       "      <td>6004</td>\n",
       "      <td>ABHISHEK  ARYAN</td>\n",
       "      <td>0.0</td>\n",
       "      <td>2.0</td>\n",
       "      <td>2.0</td>\n",
       "      <td>1.0</td>\n",
       "      <td>0.5</td>\n",
       "      <td>4.5</td>\n",
       "      <td>0.0</td>\n",
       "    </tr>\n",
       "    <tr>\n",
       "      <th>3</th>\n",
       "      <td>6005</td>\n",
       "      <td>HUSSEIN  AL HAJ MOHSEN</td>\n",
       "      <td>0.5</td>\n",
       "      <td>2.0</td>\n",
       "      <td>2.0</td>\n",
       "      <td>0.5</td>\n",
       "      <td>0.0</td>\n",
       "      <td>0.0</td>\n",
       "      <td>5.0</td>\n",
       "    </tr>\n",
       "    <tr>\n",
       "      <th>4</th>\n",
       "      <td>6006</td>\n",
       "      <td>ADARSH KUMAR SAMAL</td>\n",
       "      <td>1.0</td>\n",
       "      <td>1.5</td>\n",
       "      <td>2.0</td>\n",
       "      <td>1.5</td>\n",
       "      <td>1.0</td>\n",
       "      <td>6.0</td>\n",
       "      <td>0.0</td>\n",
       "    </tr>\n",
       "    <tr>\n",
       "      <th>...</th>\n",
       "      <td>...</td>\n",
       "      <td>...</td>\n",
       "      <td>...</td>\n",
       "      <td>...</td>\n",
       "      <td>...</td>\n",
       "      <td>...</td>\n",
       "      <td>...</td>\n",
       "      <td>...</td>\n",
       "      <td>...</td>\n",
       "    </tr>\n",
       "    <tr>\n",
       "      <th>581</th>\n",
       "      <td>6678</td>\n",
       "      <td>ANSHUMAN  SAHU</td>\n",
       "      <td>2.0</td>\n",
       "      <td>2.0</td>\n",
       "      <td>2.0</td>\n",
       "      <td>1.5</td>\n",
       "      <td>0.0</td>\n",
       "      <td>8.0</td>\n",
       "      <td>0.0</td>\n",
       "    </tr>\n",
       "    <tr>\n",
       "      <th>582</th>\n",
       "      <td>6679</td>\n",
       "      <td>ROSHAN KUMAR CHAUDHARY</td>\n",
       "      <td>2.0</td>\n",
       "      <td>2.0</td>\n",
       "      <td>2.0</td>\n",
       "      <td>0.0</td>\n",
       "      <td>0.0</td>\n",
       "      <td>0.0</td>\n",
       "      <td>6.0</td>\n",
       "    </tr>\n",
       "    <tr>\n",
       "      <th>583</th>\n",
       "      <td>6680</td>\n",
       "      <td>PRIYANSHU  RAJ</td>\n",
       "      <td>1.5</td>\n",
       "      <td>2.0</td>\n",
       "      <td>1.5</td>\n",
       "      <td>2.0</td>\n",
       "      <td>1.5</td>\n",
       "      <td>4.0</td>\n",
       "      <td>0.0</td>\n",
       "    </tr>\n",
       "    <tr>\n",
       "      <th>584</th>\n",
       "      <td>6681</td>\n",
       "      <td>YOUSEF  DARWESH</td>\n",
       "      <td>1.5</td>\n",
       "      <td>2.0</td>\n",
       "      <td>0.5</td>\n",
       "      <td>0.0</td>\n",
       "      <td>0.0</td>\n",
       "      <td>4.0</td>\n",
       "      <td>0.0</td>\n",
       "    </tr>\n",
       "    <tr>\n",
       "      <th>585</th>\n",
       "      <td>6682</td>\n",
       "      <td>ABDIWAHID MOHAMED JAMA</td>\n",
       "      <td>1.0</td>\n",
       "      <td>2.0</td>\n",
       "      <td>2.0</td>\n",
       "      <td>0.5</td>\n",
       "      <td>0.0</td>\n",
       "      <td>7.0</td>\n",
       "      <td>0.0</td>\n",
       "    </tr>\n",
       "  </tbody>\n",
       "</table>\n",
       "<p>586 rows × 9 columns</p>\n",
       "</div>"
      ],
      "text/plain": [
       "     Roll                    Name  Q.1  Q.2  Q.3  Q.4  Q.5  Q.6  Q.7\n",
       "0    6001          AARUSHI  KHARE  0.5  1.0  2.0  1.0  2.0  0.0  9.0\n",
       "1    6003          ABHINAV  HARSH  0.5  2.0  0.5  1.5  0.5  5.0  0.0\n",
       "2    6004         ABHISHEK  ARYAN  0.0  2.0  2.0  1.0  0.5  4.5  0.0\n",
       "3    6005  HUSSEIN  AL HAJ MOHSEN  0.5  2.0  2.0  0.5  0.0  0.0  5.0\n",
       "4    6006      ADARSH KUMAR SAMAL  1.0  1.5  2.0  1.5  1.0  6.0  0.0\n",
       "..    ...                     ...  ...  ...  ...  ...  ...  ...  ...\n",
       "581  6678          ANSHUMAN  SAHU  2.0  2.0  2.0  1.5  0.0  8.0  0.0\n",
       "582  6679  ROSHAN KUMAR CHAUDHARY  2.0  2.0  2.0  0.0  0.0  0.0  6.0\n",
       "583  6680          PRIYANSHU  RAJ  1.5  2.0  1.5  2.0  1.5  4.0  0.0\n",
       "584  6681         YOUSEF  DARWESH  1.5  2.0  0.5  0.0  0.0  4.0  0.0\n",
       "585  6682  ABDIWAHID MOHAMED JAMA  1.0  2.0  2.0  0.5  0.0  7.0  0.0\n",
       "\n",
       "[586 rows x 9 columns]"
      ]
     },
     "execution_count": 56,
     "metadata": {},
     "output_type": "execute_result"
    }
   ],
   "source": [
    "df=pd.read_csv(r'C:\\Users\\KIIT\\Desktop\\Subjectt.csv',encoding='iso-8859-1')\n",
    "#since unicode decode error showing up\n",
    "df"
   ]
  },
  {
   "cell_type": "code",
   "execution_count": 32,
   "metadata": {},
   "outputs": [
    {
     "data": {
      "text/plain": [
       "Roll    0\n",
       "Name    0\n",
       "Q.1     0\n",
       "Q.2     0\n",
       "Q.3     0\n",
       "Q.4     0\n",
       "Q.5     0\n",
       "Q.6     0\n",
       "Q.7     0\n",
       "dtype: int64"
      ]
     },
     "execution_count": 32,
     "metadata": {},
     "output_type": "execute_result"
    }
   ],
   "source": [
    "df.isnull().sum()\n"
   ]
  },
  {
   "cell_type": "code",
   "execution_count": 21,
   "metadata": {},
   "outputs": [
    {
     "data": {
      "text/plain": [
       "(586, 9)"
      ]
     },
     "execution_count": 21,
     "metadata": {},
     "output_type": "execute_result"
    }
   ],
   "source": [
    "df.shape"
   ]
  },
  {
   "cell_type": "code",
   "execution_count": 22,
   "metadata": {},
   "outputs": [
    {
     "name": "stdout",
     "output_type": "stream",
     "text": [
      "Empty DataFrame\n",
      "Columns: [Roll, Name, Q.1, Q.2, Q.3, Q.4, Q.5, Q.6, Q.7]\n",
      "Index: []\n"
     ]
    }
   ],
   "source": [
    "dup = df[df.duplicated()]\n",
    "print(dup)"
   ]
  },
  {
   "cell_type": "code",
   "execution_count": 33,
   "metadata": {},
   "outputs": [
    {
     "data": {
      "text/html": [
       "<div>\n",
       "<style scoped>\n",
       "    .dataframe tbody tr th:only-of-type {\n",
       "        vertical-align: middle;\n",
       "    }\n",
       "\n",
       "    .dataframe tbody tr th {\n",
       "        vertical-align: top;\n",
       "    }\n",
       "\n",
       "    .dataframe thead th {\n",
       "        text-align: right;\n",
       "    }\n",
       "</style>\n",
       "<table border=\"1\" class=\"dataframe\">\n",
       "  <thead>\n",
       "    <tr style=\"text-align: right;\">\n",
       "      <th></th>\n",
       "      <th>Roll</th>\n",
       "      <th>Q.1</th>\n",
       "      <th>Q.2</th>\n",
       "      <th>Q.3</th>\n",
       "      <th>Q.4</th>\n",
       "      <th>Q.5</th>\n",
       "      <th>Q.6</th>\n",
       "      <th>Q.7</th>\n",
       "    </tr>\n",
       "  </thead>\n",
       "  <tbody>\n",
       "    <tr>\n",
       "      <th>count</th>\n",
       "      <td>586.000000</td>\n",
       "      <td>586.000000</td>\n",
       "      <td>586.000000</td>\n",
       "      <td>586.000000</td>\n",
       "      <td>586.000000</td>\n",
       "      <td>586.000000</td>\n",
       "      <td>586.000000</td>\n",
       "      <td>586.000000</td>\n",
       "    </tr>\n",
       "    <tr>\n",
       "      <th>mean</th>\n",
       "      <td>6333.675768</td>\n",
       "      <td>1.104096</td>\n",
       "      <td>1.712457</td>\n",
       "      <td>1.380119</td>\n",
       "      <td>1.177730</td>\n",
       "      <td>1.088908</td>\n",
       "      <td>3.381399</td>\n",
       "      <td>3.104949</td>\n",
       "    </tr>\n",
       "    <tr>\n",
       "      <th>std</th>\n",
       "      <td>328.820717</td>\n",
       "      <td>0.740928</td>\n",
       "      <td>0.550911</td>\n",
       "      <td>0.611347</td>\n",
       "      <td>0.742676</td>\n",
       "      <td>0.761581</td>\n",
       "      <td>3.664920</td>\n",
       "      <td>3.533308</td>\n",
       "    </tr>\n",
       "    <tr>\n",
       "      <th>min</th>\n",
       "      <td>6.000000</td>\n",
       "      <td>0.000000</td>\n",
       "      <td>0.000000</td>\n",
       "      <td>0.000000</td>\n",
       "      <td>0.000000</td>\n",
       "      <td>0.000000</td>\n",
       "      <td>0.000000</td>\n",
       "      <td>0.000000</td>\n",
       "    </tr>\n",
       "    <tr>\n",
       "      <th>25%</th>\n",
       "      <td>6173.250000</td>\n",
       "      <td>0.500000</td>\n",
       "      <td>1.500000</td>\n",
       "      <td>1.000000</td>\n",
       "      <td>0.500000</td>\n",
       "      <td>0.312500</td>\n",
       "      <td>0.000000</td>\n",
       "      <td>0.000000</td>\n",
       "    </tr>\n",
       "    <tr>\n",
       "      <th>50%</th>\n",
       "      <td>6339.500000</td>\n",
       "      <td>1.000000</td>\n",
       "      <td>2.000000</td>\n",
       "      <td>1.500000</td>\n",
       "      <td>1.000000</td>\n",
       "      <td>1.000000</td>\n",
       "      <td>0.500000</td>\n",
       "      <td>0.000000</td>\n",
       "    </tr>\n",
       "    <tr>\n",
       "      <th>75%</th>\n",
       "      <td>6521.250000</td>\n",
       "      <td>2.000000</td>\n",
       "      <td>2.000000</td>\n",
       "      <td>2.000000</td>\n",
       "      <td>2.000000</td>\n",
       "      <td>2.000000</td>\n",
       "      <td>6.500000</td>\n",
       "      <td>6.000000</td>\n",
       "    </tr>\n",
       "    <tr>\n",
       "      <th>max</th>\n",
       "      <td>6682.000000</td>\n",
       "      <td>2.000000</td>\n",
       "      <td>2.000000</td>\n",
       "      <td>2.000000</td>\n",
       "      <td>2.000000</td>\n",
       "      <td>2.000000</td>\n",
       "      <td>10.000000</td>\n",
       "      <td>10.000000</td>\n",
       "    </tr>\n",
       "  </tbody>\n",
       "</table>\n",
       "</div>"
      ],
      "text/plain": [
       "              Roll         Q.1         Q.2         Q.3         Q.4  \\\n",
       "count   586.000000  586.000000  586.000000  586.000000  586.000000   \n",
       "mean   6333.675768    1.104096    1.712457    1.380119    1.177730   \n",
       "std     328.820717    0.740928    0.550911    0.611347    0.742676   \n",
       "min       6.000000    0.000000    0.000000    0.000000    0.000000   \n",
       "25%    6173.250000    0.500000    1.500000    1.000000    0.500000   \n",
       "50%    6339.500000    1.000000    2.000000    1.500000    1.000000   \n",
       "75%    6521.250000    2.000000    2.000000    2.000000    2.000000   \n",
       "max    6682.000000    2.000000    2.000000    2.000000    2.000000   \n",
       "\n",
       "              Q.5         Q.6         Q.7  \n",
       "count  586.000000  586.000000  586.000000  \n",
       "mean     1.088908    3.381399    3.104949  \n",
       "std      0.761581    3.664920    3.533308  \n",
       "min      0.000000    0.000000    0.000000  \n",
       "25%      0.312500    0.000000    0.000000  \n",
       "50%      1.000000    0.500000    0.000000  \n",
       "75%      2.000000    6.500000    6.000000  \n",
       "max      2.000000   10.000000   10.000000  "
      ]
     },
     "execution_count": 33,
     "metadata": {},
     "output_type": "execute_result"
    }
   ],
   "source": [
    "df.describe()"
   ]
  },
  {
   "cell_type": "code",
   "execution_count": 34,
   "metadata": {},
   "outputs": [
    {
     "name": "stdout",
     "output_type": "stream",
     "text": [
      "<class 'pandas.core.frame.DataFrame'>\n",
      "RangeIndex: 586 entries, 0 to 585\n",
      "Data columns (total 9 columns):\n",
      " #   Column  Non-Null Count  Dtype  \n",
      "---  ------  --------------  -----  \n",
      " 0   Roll    586 non-null    int64  \n",
      " 1   Name    586 non-null    object \n",
      " 2   Q.1     586 non-null    float64\n",
      " 3   Q.2     586 non-null    float64\n",
      " 4   Q.3     586 non-null    float64\n",
      " 5   Q.4     586 non-null    float64\n",
      " 6   Q.5     586 non-null    float64\n",
      " 7   Q.6     586 non-null    float64\n",
      " 8   Q.7     586 non-null    float64\n",
      "dtypes: float64(7), int64(1), object(1)\n",
      "memory usage: 41.3+ KB\n"
     ]
    }
   ],
   "source": [
    "df.info()"
   ]
  },
  {
   "cell_type": "code",
   "execution_count": 26,
   "metadata": {},
   "outputs": [
    {
     "data": {
      "text/plain": [
       "array([0.5 , 0.  , 1.  , 2.  , 1.5 , 0.25, 1.25, 0.75, 1.75])"
      ]
     },
     "execution_count": 26,
     "metadata": {},
     "output_type": "execute_result"
    }
   ],
   "source": [
    "df['Q.1'].unique()"
   ]
  },
  {
   "cell_type": "code",
   "execution_count": 57,
   "metadata": {
    "scrolled": true
   },
   "outputs": [
    {
     "data": {
      "text/plain": [
       "2.00    166\n",
       "1.00    132\n",
       "0.00    118\n",
       "1.50     96\n",
       "0.50     66\n",
       "0.25      4\n",
       "1.25      2\n",
       "1.75      1\n",
       "0.75      1\n",
       "Name: Q.1, dtype: int64"
      ]
     },
     "execution_count": 57,
     "metadata": {},
     "output_type": "execute_result"
    }
   ],
   "source": [
    "#Start with each question\n",
    "df['Q.1'].value_counts()"
   ]
  },
  {
   "cell_type": "code",
   "execution_count": 35,
   "metadata": {},
   "outputs": [
    {
     "data": {
      "text/plain": [
       "2.00    202\n",
       "1.00    126\n",
       "0.00     96\n",
       "1.50     78\n",
       "0.50     77\n",
       "0.10      4\n",
       "1.75      2\n",
       "0.75      1\n",
       "Name: Q.4, dtype: int64"
      ]
     },
     "execution_count": 35,
     "metadata": {},
     "output_type": "execute_result"
    }
   ],
   "source": [
    "#Start with each question\n",
    "df['Q.4'].value_counts()"
   ]
  },
  {
   "cell_type": "code",
   "execution_count": 36,
   "metadata": {},
   "outputs": [
    {
     "data": {
      "text/plain": [
       "0.0     293\n",
       "6.0      63\n",
       "5.0      36\n",
       "7.0      34\n",
       "8.0      33\n",
       "10.0     27\n",
       "9.0      26\n",
       "4.0      20\n",
       "6.5      14\n",
       "9.5      13\n",
       "4.5       6\n",
       "7.5       6\n",
       "3.0       5\n",
       "1.0       4\n",
       "2.0       2\n",
       "8.5       2\n",
       "5.5       2\n",
       "Name: Q.6, dtype: int64"
      ]
     },
     "execution_count": 36,
     "metadata": {},
     "output_type": "execute_result"
    }
   ],
   "source": [
    "#Start with each question\n",
    "df['Q.6'].value_counts()"
   ]
  },
  {
   "cell_type": "code",
   "execution_count": 41,
   "metadata": {},
   "outputs": [
    {
     "data": {
      "image/png": "[encoded data removed]",
      "text/plain": [
       "<Figure size 1080x576 with 1 Axes>"
      ]
     },
     "metadata": {
      "needs_background": "light"
     },
     "output_type": "display_data"
    }
   ],
   "source": [
    "plt.figure(figsize=(15,8))\n",
    "sns.countplot(data = df, x = 'Q.1',palette='Set1')\n",
    "plt.xticks(rotation=90)\n",
    "plt.xlabel(\"Question-1\",size=20)\n",
    "plt.ylabel(\"No. of students\",size=20)\n",
    "plt.show()"
   ]
  },
  {
   "cell_type": "code",
   "execution_count": 60,
   "metadata": {},
   "outputs": [
    {
     "data": {
      "image/png": "[encoded data removed]",
      "text/plain": [
       "<Figure size 720x720 with 1 Axes>"
      ]
     },
     "metadata": {},
     "output_type": "display_data"
    }
   ],
   "source": [
    "plt.figure(figsize=(10,10))\n",
    "df['Q.6'].value_counts().plot.pie(autopct =\"%1.1f%%\")\n",
    "plt.show()"
   ]
  },
  {
   "cell_type": "code",
   "execution_count": 61,
   "metadata": {},
   "outputs": [
    {
     "data": {
      "image/png": "[encoded data removed]",
      "text/plain": [
       "<Figure size 1440x720 with 1 Axes>"
      ]
     },
     "metadata": {
      "needs_background": "light"
     },
     "output_type": "display_data"
    }
   ],
   "source": [
    "df['Q.2'].value_counts().to_frame().head(10).plot(kind='bar',color='black',figsize=(20,10))\n",
    "plt.title(\"Marks Chart for Q.2\",fontsize=20)\n",
    "plt.xlabel(\"Marks\",fontsize=15)\n",
    "plt.ylabel(\"Students\",fontsize=15)\n",
    "plt.show()"
   ]
  },
  {
   "cell_type": "code",
   "execution_count": null,
   "metadata": {},
   "outputs": [],
   "source": []
  }
 ],
 "metadata": {
  "kernelspec": {
   "display_name": "Python 3",
   "language": "python",
   "name": "python3"
  },
  "language_info": {
   "codemirror_mode": {
    "name": "ipython",
    "version": 3
   },
   "file_extension": ".py",
   "mimetype": "text/x-python",
   "name": "python",
   "nbconvert_exporter": "python",
   "pygments_lexer": "ipython3",
   "version": "3.8.5"
  }
 },
 "nbformat": 4,
 "nbformat_minor": 4
}
